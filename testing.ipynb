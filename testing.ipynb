{
 "cells": [
  {
   "cell_type": "code",
   "execution_count": 1,
   "id": "f55beef3",
   "metadata": {},
   "outputs": [],
   "source": [
    "import os\n",
    "from Bio import SeqIO\n",
    "import gzip\n",
    "from itertools import islice"
   ]
  },
  {
   "cell_type": "code",
   "execution_count": null,
   "id": "e780349a",
   "metadata": {},
   "outputs": [
    {
     "name": "stdout",
     "output_type": "stream",
     "text": [
      "ID: A00264:287:HGT2HDRX5:1:2101:2248:1000\n",
      "Name: A00264:287:HGT2HDRX5:1:2101:2248:1000\n",
      "Description: A00264:287:HGT2HDRX5:1:2101:2248:1000 1:N:0:GCCATCTATAGA+GCGAGATAGTTC\n",
      "Number of features: 0\n",
      "Per letter annotation for: phred_quality\n",
      "Seq('GNCCCCTTCTCTCATCTCTTAGCTCCCCTCCAACCTGGGGGGCAGTGGTT')\n"
     ]
    }
   ],
   "source": [
    "data_dir = \"/gpfs/Labs/Uzun/DATA/GRANT_APPS/2025.NYNRIN.DOD.ELCHEVA\"\n",
    "\n",
    "fastq_file = os.path.join(data_dir, \"FASTQ_FILES/RAW/BATCH_2025_01/K562_shCNTL_Rep1_R1.fastq.gz\")\n",
    "\n",
    "udi_to_read = {}\n",
    "with gzip.open(fastq_file, \"rt\") as handle:\n",
    "    first_read = next(SeqIO.parse(handle, \"fastq\"))\n",
    "    print(first_read)"
   ]
  },
  {
   "cell_type": "code",
   "execution_count": null,
   "id": "d8c35985",
   "metadata": {},
   "outputs": [
    {
     "name": "stdout",
     "output_type": "stream",
     "text": [
      "TTTTTTTTTTTTTTTTTCAAACAAAATTTAATTTAAAATAAATTTTTTTT\n",
      "TTTTTTTTTTTTTTTTTACAATTGAATGTCTGCACAGCCGCTTTCCACAC\n",
      "TTTTTTTTTTTTTTTTTTTCCCCATCTGATTGCTTACCTTTTTCTGTTCC\n",
      "TTTTTTTTTTTTTTTTTTGGCAAAAAAAAAAAAAACACGTTTTTTAAATG\n",
      "TTTTTTTTTTTTTTTTTACACAGAAAATTATTTTCTTTAATTATCATACA\n",
      "TTTTTTTTTTTTTTTTTATTTTTTTTTTTTTTTTTTTTTTTTTTTTTTTT\n",
      "TTTTTTTTTTTTTTTTTTTTATTTTTTTTTTTTTTTTTTTTTTTTTAAAA\n",
      "TTTTTTTTTTTTTTTTTTTGTGCTTATGATGTTTCTCGGTGCTGTATTAT\n",
      "TTTTTTTTTTTTTTTTTTTGTGCTCCAGTAAATGAAAGGGAAAATTTTTT\n",
      "TTTTTTTTTTTTTTTTTTGCCGCCCACTCAGACTTTATTCAAAGACCCCG\n"
     ]
    }
   ],
   "source": [
    "data_dir = \"/gpfs/Labs/Uzun/DATA/GRANT_APPS/2025.NYNRIN.DOD.ELCHEVA\"\n",
    "\n",
    "fastq_file = os.path.join(data_dir, \"FASTQ_FILES/RAW/BATCH_2025_01/K562_shCNTL_Rep1_R2.fastq.gz\")\n",
    "\n",
    "udi_to_read = {}\n",
    "with gzip.open(fastq_file, \"rt\") as handle:\n",
    "    reads = SeqIO.parse(handle, \"fastq\")\n",
    "    for read in islice(reads, 10):\n",
    "        udi = read.description.split(\":\")[-1]\n",
    "        sequence = read.seq\n",
    "        id = read.id\n",
    "        name = f\"{read.name}_{udi}\"\n",
    "        description = read.description\n",
    "        print(sequence)\n",
    "        \n",
    "        if udi not in udi_to_read.keys():\n",
    "            udi_to_read[udi] = [sequence]\n",
    "        else:\n",
    "            udi_to_read[udi].append(sequence)\n",
    "\n",
    "# for udi, sequence in udi_to_read.items():\n",
    "#     print(f\"udi {udi} has {len(sequence)} read(s)\")\n"
   ]
  }
 ],
 "metadata": {
  "kernelspec": {
   "display_name": "bioinformatics",
   "language": "python",
   "name": "bioinformatics"
  },
  "language_info": {
   "codemirror_mode": {
    "name": "ipython",
    "version": 3
   },
   "file_extension": ".py",
   "mimetype": "text/x-python",
   "name": "python",
   "nbconvert_exporter": "python",
   "pygments_lexer": "ipython3",
   "version": "3.13.5"
  }
 },
 "nbformat": 4,
 "nbformat_minor": 5
}
