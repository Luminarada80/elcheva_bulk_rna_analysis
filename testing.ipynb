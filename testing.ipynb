{
 "cells": [
  {
   "cell_type": "code",
   "execution_count": 13,
   "id": "f55beef3",
   "metadata": {},
   "outputs": [],
   "source": [
    "import os\n",
    "from Bio import SeqIO\n",
    "import gzip\n",
    "from itertools import islice"
   ]
  },
  {
   "cell_type": "code",
   "execution_count": 17,
   "id": "d8c35985",
   "metadata": {},
   "outputs": [
    {
     "name": "stdout",
     "output_type": "stream",
     "text": [
      "ID: A00264:287:HGT2HDRX5:1:2101:2248:1000\n",
      "Name: A00264:287:HGT2HDRX5:1:2101:2248:1000\n",
      "Description: A00264:287:HGT2HDRX5:1:2101:2248:1000 1:N:0:GCCATCTATAGA+GCGAGATAGTTC\n",
      "Number of features: 0\n",
      "Per letter annotation for: phred_quality\n",
      "Seq('GNCCCCTTCTCTCATCTCTTAGCTCCCCTCCAACCTGGGGGGCAGTGGTT')\n"
     ]
    }
   ],
   "source": [
    "data_dir = \"/gpfs/Labs/Uzun/DATA/GRANT_APPS/2025.NYNRIN.DOD.ELCHEVA\"\n",
    "\n",
    "fastq_file = os.path.join(data_dir, \"FASTQ_FILES/RAW/BATCH_2025_01/K562_shCNTL_Rep1_R1.fastq.gz\")\n",
    "\n",
    "with gzip.open(fastq_file, \"rt\") as handle:\n",
    "    first_read = next(SeqIO.parse(handle, \"fastq\"))\n",
    "    print(first_read)"
   ]
  },
  {
   "cell_type": "code",
   "execution_count": null,
   "id": "db712100",
   "metadata": {
    "vscode": {
     "languageId": "shellscript"
    }
   },
   "outputs": [],
   "source": [
    "#! /bin/bash\n",
    "!module load STAR/2.7.3a"
   ]
  }
 ],
 "metadata": {
  "kernelspec": {
   "display_name": "bioinformatics",
   "language": "python",
   "name": "bioinformatics"
  }
 },
 "nbformat": 4,
 "nbformat_minor": 5
}
